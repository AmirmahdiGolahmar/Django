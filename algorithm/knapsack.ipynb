{
 "cells": [
  {
   "cell_type": "markdown",
   "id": "5f115cec",
   "metadata": {},
   "source": [
    "# knapsack\n",
    "### Problem Statement :\n",
    "- You are given a set of items, each with a weight and a value. You need to determine the maximum value you can obtain by picking a subset of these items, without exceeding a given weight capacity.\n",
    "\n",
    "#### Inputs:\n",
    "\n",
    "- A list of items, each with a weight and a value.\n",
    "\n",
    "- A weight capacity (maximum weight that can be carried).\n",
    "\n",
    "#### Outputs:\n",
    "\n",
    "- The maximum value that can be obtained by selecting a subset of items such that their total weight does not exceed the capacity."
   ]
  },
  {
   "cell_type": "markdown",
   "id": "ebfbfd89",
   "metadata": {},
   "source": [
    "### Dynamic Programming Solution :\n",
    "We solve this problem using dynamic programming by creating a table where:\n",
    "\n",
    "- The rows represent the items.\n",
    "\n",
    "- The columns represent the weight capacities (from 0 to the maximum weight).\n",
    "\n",
    "The entry at table[i][𝑤] will represent the maximum value that can be obtained using the first i items with a maximum weight capacity of w.\n",
    "\n",
    "Recurrence Relation:\n",
    "- If the weight of the current item exceeds the current capacity, we can't include it in the knapsack, so:\n",
    "\n",
    "> table[𝑖][𝑤] = table[𝑖−1][𝑤]\n",
    "\n",
    "- If the current item can be included, we check whether including it would result in a higher value than excluding it:\n",
    "\n",
    "> table[𝑖][𝑤] = max(table[𝑖−1][𝑤], value[𝑖] + table[𝑖−1][𝑤−weight[𝑖]])\n",
    "\n",
    "Steps:\n",
    "1. Create a 2D table where table[i][w] represents the maximum value for the first i items and weight capacity w.\n",
    "\n",
    "2. Fill the table using the recurrence relations.\n",
    "\n",
    "3. The value at table[n][𝑤] (where n is the number of items and W is the capacity) will be the maximum value."
   ]
  },
  {
   "cell_type": "code",
   "execution_count": 1,
   "id": "915d4357",
   "metadata": {},
   "outputs": [],
   "source": [
    "def knapsack(weights, values, capacity):\n",
    "    n = len(weights)  # Number of items\n",
    "    table = [[0] * (capacity + 1) for _ in range(n + 1)]  # DP table\n",
    "    \n",
    "    # Fill the DP table\n",
    "    for i in range(1, n + 1):\n",
    "        for w in range(capacity + 1):\n",
    "            if weights[i - 1] <= w:\n",
    "                table[i][w] = max(table[i - 1][w], values[i - 1] + table[i - 1][w - weights[i - 1]])\n",
    "            else:\n",
    "                table[i][w] = table[i - 1][w]\n",
    "    \n",
    "    return table[n][capacity]"
   ]
  },
  {
   "cell_type": "code",
   "execution_count": null,
   "id": "15478c0e",
   "metadata": {},
   "outputs": [
    {
     "name": "stdout",
     "output_type": "stream",
     "text": [
      "Maximum value: 220\n"
     ]
    }
   ],
   "source": [
    "# Example input\n",
    "weights = [10, 20, 30]\n",
    "values = [60, 100, 120]\n",
    "capacity = 50\n",
    "\n",
    "max_value = knapsack(weights, values, capacity)\n",
    "print(\"Max value:\", max_value)"
   ]
  }
 ],
 "metadata": {
  "kernelspec": {
   "display_name": "myvenv",
   "language": "python",
   "name": "python3"
  },
  "language_info": {
   "codemirror_mode": {
    "name": "ipython",
    "version": 3
   },
   "file_extension": ".py",
   "mimetype": "text/x-python",
   "name": "python",
   "nbconvert_exporter": "python",
   "pygments_lexer": "ipython3",
   "version": "3.13.3"
  }
 },
 "nbformat": 4,
 "nbformat_minor": 5
}
